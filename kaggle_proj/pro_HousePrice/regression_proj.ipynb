{
 "cells": [
  {
   "cell_type": "code",
   "execution_count": 142,
   "metadata": {},
   "outputs": [],
   "source": [
    "import os\n",
    "import sys\n",
    "sys.path.append(\"E:/DataScience/\")\n",
    "\n",
    "import pandas as pd\n",
    "import numpy as np\n",
    "import matplotlib as mpl\n",
    "import matplotlib.pyplot as plt\n",
    "%matplotlib inline\n",
    "\n",
    "from mltool.dataImport import read_csv_excel\n",
    "from mltool.featureTransform import distribution_transform\n",
    "from mltool.featureTransform import feature_classification"
   ]
  },
  {
   "cell_type": "markdown",
   "metadata": {},
   "source": [
    "# 1.数据读取"
   ]
  },
  {
   "cell_type": "code",
   "execution_count": 143,
   "metadata": {},
   "outputs": [
    {
     "name": "stderr",
     "output_type": "stream",
     "text": [
      "E:/DataScience\\mltool\\dataImport\\read_csv_excel.py:34: FutureWarning: Sorting because non-concatenation axis is not aligned. A future version\n",
      "of pandas will change to not sort by default.\n",
      "\n",
      "To accept the future behavior, pass 'sort=True'.\n",
      "\n",
      "To retain the current behavior and silence the warning, pass sort=False\n",
      "\n",
      "  data_union = pd.concat((train, test)).reset_index(drop = True)\n"
     ]
    }
   ],
   "source": [
    "reader = read_csv_excel.read_train_test(trainPath = \"./data/train.csv\", \n",
    "                                        testPath = \"./data/test.csv\",\n",
    "                                        targetName = \"SalePrice\")\n",
    "train, trainId = reader.read_train()\n",
    "test, testId = reader.read_test()\n",
    "all_data = reader.data_union(train, test)\n",
    "train_target = reader.get_train_target(train)"
   ]
  },
  {
   "cell_type": "code",
   "execution_count": 144,
   "metadata": {
    "scrolled": true
   },
   "outputs": [
    {
     "name": "stdout",
     "output_type": "stream",
     "text": [
      "(1460, 80)\n",
      "(1459, 79)\n",
      "(2919, 79)\n",
      "\n",
      "(1460,)\n",
      "(1459,)\n",
      "(1460,)\n"
     ]
    }
   ],
   "source": [
    "print(train.shape)\n",
    "print(test.shape)\n",
    "print(all_data.shape)\n",
    "print()\n",
    "print(trainId.shape)\n",
    "print(testId.shape)\n",
    "print(train_target.shape)"
   ]
  },
  {
   "cell_type": "markdown",
   "metadata": {},
   "source": [
    "# 2.探索性数据分析、数据预处理\n",
    "\n",
    "* 目标变量正态性转换"
   ]
  },
  {
   "cell_type": "markdown",
   "metadata": {},
   "source": [
    "## 2.1目标变量SalePrice正态性转换"
   ]
  },
  {
   "cell_type": "markdown",
   "metadata": {},
   "source": [
    "#### (1) 目标变量分布"
   ]
  },
  {
   "cell_type": "code",
   "execution_count": 145,
   "metadata": {},
   "outputs": [
    {
     "data": {
      "image/png": "[encoded data removed]",
      "text/plain": [
       "<Figure size 864x432 with 2 Axes>"
      ]
     },
     "metadata": {},
     "output_type": "display_data"
    }
   ],
   "source": [
    "mpl.rcParams['figure.figsize'] = (12.0, 6.0)\n",
    "prices = pd.DataFrame({\n",
    "    'price': train_target,\n",
    "    'log(1 + price)': distribution_transform.log_trans_norm(train_target)\n",
    "})\n",
    "prices.hist();"
   ]
  },
  {
   "cell_type": "code",
   "execution_count": 146,
   "metadata": {},
   "outputs": [
    {
     "data": {
      "image/png": "[encoded data removed]",
      "text/plain": [
       "<Figure size 864x432 with 2 Axes>"
      ]
     },
     "metadata": {},
     "output_type": "display_data"
    }
   ],
   "source": [
    "distribution_transform.feature_hist(train_target)"
   ]
  },
  {
   "cell_type": "markdown",
   "metadata": {},
   "source": [
    "#### (2) 目标变量转换"
   ]
  },
  {
   "cell_type": "code",
   "execution_count": 162,
   "metadata": {},
   "outputs": [],
   "source": [
    "train_target = distribution_transform.log_trans_norm(train_target)"
   ]
  },
  {
   "cell_type": "markdown",
   "metadata": {},
   "source": [
    "## 2.2 数值型变量与类别性变量分别处理"
   ]
  },
  {
   "cell_type": "markdown",
   "metadata": {},
   "source": [
    "### (1) 分离数值型变量和类别性变量"
   ]
  },
  {
   "cell_type": "code",
   "execution_count": 148,
   "metadata": {
    "scrolled": false
   },
   "outputs": [
    {
     "name": "stdout",
     "output_type": "stream",
     "text": [
      "1stFlrSF           int64\n",
      "2ndFlrSF           int64\n",
      "3SsnPorch          int64\n",
      "Alley             object\n",
      "BedroomAbvGr       int64\n",
      "BldgType          object\n",
      "BsmtCond          object\n",
      "BsmtExposure      object\n",
      "BsmtFinSF1       float64\n",
      "BsmtFinSF2       float64\n",
      "BsmtFinType1      object\n",
      "BsmtFinType2      object\n",
      "BsmtFullBath     float64\n",
      "BsmtHalfBath     float64\n",
      "BsmtQual          object\n",
      "BsmtUnfSF        float64\n",
      "CentralAir        object\n",
      "Condition1        object\n",
      "Condition2        object\n",
      "Electrical        object\n",
      "EnclosedPorch      int64\n",
      "ExterCond         object\n",
      "ExterQual         object\n",
      "Exterior1st       object\n",
      "Exterior2nd       object\n",
      "Fence             object\n",
      "FireplaceQu       object\n",
      "Fireplaces         int64\n",
      "Foundation        object\n",
      "FullBath           int64\n",
      "Functional        object\n",
      "GarageArea       float64\n",
      "GarageCars       float64\n",
      "GarageCond        object\n",
      "GarageFinish      object\n",
      "GarageQual        object\n",
      "GarageType        object\n",
      "GarageYrBlt      float64\n",
      "GrLivArea          int64\n",
      "HalfBath           int64\n",
      "Heating           object\n",
      "HeatingQC         object\n",
      "HouseStyle        object\n",
      "KitchenAbvGr       int64\n",
      "KitchenQual       object\n",
      "LandContour       object\n",
      "LandSlope         object\n",
      "LotArea            int64\n",
      "LotConfig         object\n",
      "LotFrontage      float64\n",
      "LotShape          object\n",
      "LowQualFinSF       int64\n",
      "MSSubClass         int64\n",
      "MSZoning          object\n",
      "MasVnrArea       float64\n",
      "MasVnrType        object\n",
      "MiscFeature       object\n",
      "MiscVal            int64\n",
      "MoSold             int64\n",
      "Neighborhood      object\n",
      "OpenPorchSF        int64\n",
      "OverallCond        int64\n",
      "OverallQual        int64\n",
      "PavedDrive        object\n",
      "PoolArea           int64\n",
      "PoolQC            object\n",
      "RoofMatl          object\n",
      "RoofStyle         object\n",
      "SaleCondition     object\n",
      "SaleType          object\n",
      "ScreenPorch        int64\n",
      "Street            object\n",
      "TotRmsAbvGrd       int64\n",
      "TotalBsmtSF      float64\n",
      "Utilities         object\n",
      "WoodDeckSF         int64\n",
      "YearBuilt          int64\n",
      "YearRemodAdd       int64\n",
      "YrSold             int64\n",
      "dtype: object\n"
     ]
    }
   ],
   "source": [
    "numeric_categorical_split.feature_dtype(all_data)"
   ]
  },
  {
   "cell_type": "markdown",
   "metadata": {},
   "source": [
    "### (2) 数值型变量"
   ]
  },
  {
   "cell_type": "code",
   "execution_count": 149,
   "metadata": {},
   "outputs": [],
   "source": [
    "num_feat, num_feat_index, cate_feat, cate_feat_index = feature_classification.numeric_categorical_features(data = all_data, limit_value = 0)"
   ]
  },
  {
   "cell_type": "code",
   "execution_count": 150,
   "metadata": {},
   "outputs": [
    {
     "data": {
      "text/html": [
       "<div>\n",
       "<style scoped>\n",
       "    .dataframe tbody tr th:only-of-type {\n",
       "        vertical-align: middle;\n",
       "    }\n",
       "\n",
       "    .dataframe tbody tr th {\n",
       "        vertical-align: top;\n",
       "    }\n",
       "\n",
       "    .dataframe thead th {\n",
       "        text-align: right;\n",
       "    }\n",
       "</style>\n",
       "<table border=\"1\" class=\"dataframe\">\n",
       "  <thead>\n",
       "    <tr style=\"text-align: right;\">\n",
       "      <th></th>\n",
       "      <th>1stFlrSF</th>\n",
       "      <th>2ndFlrSF</th>\n",
       "      <th>3SsnPorch</th>\n",
       "      <th>BedroomAbvGr</th>\n",
       "      <th>BsmtFinSF1</th>\n",
       "      <th>BsmtFinSF2</th>\n",
       "      <th>BsmtFullBath</th>\n",
       "      <th>BsmtHalfBath</th>\n",
       "      <th>BsmtUnfSF</th>\n",
       "      <th>EnclosedPorch</th>\n",
       "      <th>...</th>\n",
       "      <th>OverallCond</th>\n",
       "      <th>OverallQual</th>\n",
       "      <th>PoolArea</th>\n",
       "      <th>ScreenPorch</th>\n",
       "      <th>TotRmsAbvGrd</th>\n",
       "      <th>TotalBsmtSF</th>\n",
       "      <th>WoodDeckSF</th>\n",
       "      <th>YearBuilt</th>\n",
       "      <th>YearRemodAdd</th>\n",
       "      <th>YrSold</th>\n",
       "    </tr>\n",
       "  </thead>\n",
       "  <tbody>\n",
       "    <tr>\n",
       "      <th>0</th>\n",
       "      <td>856</td>\n",
       "      <td>854</td>\n",
       "      <td>0</td>\n",
       "      <td>3</td>\n",
       "      <td>706.0</td>\n",
       "      <td>0.0</td>\n",
       "      <td>1.0</td>\n",
       "      <td>0.0</td>\n",
       "      <td>150.0</td>\n",
       "      <td>0</td>\n",
       "      <td>...</td>\n",
       "      <td>5</td>\n",
       "      <td>7</td>\n",
       "      <td>0</td>\n",
       "      <td>0</td>\n",
       "      <td>8</td>\n",
       "      <td>856.0</td>\n",
       "      <td>0</td>\n",
       "      <td>2003</td>\n",
       "      <td>2003</td>\n",
       "      <td>2008</td>\n",
       "    </tr>\n",
       "    <tr>\n",
       "      <th>1</th>\n",
       "      <td>1262</td>\n",
       "      <td>0</td>\n",
       "      <td>0</td>\n",
       "      <td>3</td>\n",
       "      <td>978.0</td>\n",
       "      <td>0.0</td>\n",
       "      <td>0.0</td>\n",
       "      <td>1.0</td>\n",
       "      <td>284.0</td>\n",
       "      <td>0</td>\n",
       "      <td>...</td>\n",
       "      <td>8</td>\n",
       "      <td>6</td>\n",
       "      <td>0</td>\n",
       "      <td>0</td>\n",
       "      <td>6</td>\n",
       "      <td>1262.0</td>\n",
       "      <td>298</td>\n",
       "      <td>1976</td>\n",
       "      <td>1976</td>\n",
       "      <td>2007</td>\n",
       "    </tr>\n",
       "    <tr>\n",
       "      <th>2</th>\n",
       "      <td>920</td>\n",
       "      <td>866</td>\n",
       "      <td>0</td>\n",
       "      <td>3</td>\n",
       "      <td>486.0</td>\n",
       "      <td>0.0</td>\n",
       "      <td>1.0</td>\n",
       "      <td>0.0</td>\n",
       "      <td>434.0</td>\n",
       "      <td>0</td>\n",
       "      <td>...</td>\n",
       "      <td>5</td>\n",
       "      <td>7</td>\n",
       "      <td>0</td>\n",
       "      <td>0</td>\n",
       "      <td>6</td>\n",
       "      <td>920.0</td>\n",
       "      <td>0</td>\n",
       "      <td>2001</td>\n",
       "      <td>2002</td>\n",
       "      <td>2008</td>\n",
       "    </tr>\n",
       "    <tr>\n",
       "      <th>3</th>\n",
       "      <td>961</td>\n",
       "      <td>756</td>\n",
       "      <td>0</td>\n",
       "      <td>3</td>\n",
       "      <td>216.0</td>\n",
       "      <td>0.0</td>\n",
       "      <td>1.0</td>\n",
       "      <td>0.0</td>\n",
       "      <td>540.0</td>\n",
       "      <td>272</td>\n",
       "      <td>...</td>\n",
       "      <td>5</td>\n",
       "      <td>7</td>\n",
       "      <td>0</td>\n",
       "      <td>0</td>\n",
       "      <td>7</td>\n",
       "      <td>756.0</td>\n",
       "      <td>0</td>\n",
       "      <td>1915</td>\n",
       "      <td>1970</td>\n",
       "      <td>2006</td>\n",
       "    </tr>\n",
       "    <tr>\n",
       "      <th>4</th>\n",
       "      <td>1145</td>\n",
       "      <td>1053</td>\n",
       "      <td>0</td>\n",
       "      <td>4</td>\n",
       "      <td>655.0</td>\n",
       "      <td>0.0</td>\n",
       "      <td>1.0</td>\n",
       "      <td>0.0</td>\n",
       "      <td>490.0</td>\n",
       "      <td>0</td>\n",
       "      <td>...</td>\n",
       "      <td>5</td>\n",
       "      <td>8</td>\n",
       "      <td>0</td>\n",
       "      <td>0</td>\n",
       "      <td>9</td>\n",
       "      <td>1145.0</td>\n",
       "      <td>192</td>\n",
       "      <td>2000</td>\n",
       "      <td>2000</td>\n",
       "      <td>2008</td>\n",
       "    </tr>\n",
       "  </tbody>\n",
       "</table>\n",
       "<p>5 rows × 36 columns</p>\n",
       "</div>"
      ],
      "text/plain": [
       "   1stFlrSF  2ndFlrSF  3SsnPorch  BedroomAbvGr  BsmtFinSF1  BsmtFinSF2  \\\n",
       "0       856       854          0             3       706.0         0.0   \n",
       "1      1262         0          0             3       978.0         0.0   \n",
       "2       920       866          0             3       486.0         0.0   \n",
       "3       961       756          0             3       216.0         0.0   \n",
       "4      1145      1053          0             4       655.0         0.0   \n",
       "\n",
       "   BsmtFullBath  BsmtHalfBath  BsmtUnfSF  EnclosedPorch   ...    OverallCond  \\\n",
       "0           1.0           0.0      150.0              0   ...              5   \n",
       "1           0.0           1.0      284.0              0   ...              8   \n",
       "2           1.0           0.0      434.0              0   ...              5   \n",
       "3           1.0           0.0      540.0            272   ...              5   \n",
       "4           1.0           0.0      490.0              0   ...              5   \n",
       "\n",
       "   OverallQual  PoolArea  ScreenPorch  TotRmsAbvGrd  TotalBsmtSF  WoodDeckSF  \\\n",
       "0            7         0            0             8        856.0           0   \n",
       "1            6         0            0             6       1262.0         298   \n",
       "2            7         0            0             6        920.0           0   \n",
       "3            7         0            0             7        756.0           0   \n",
       "4            8         0            0             9       1145.0         192   \n",
       "\n",
       "   YearBuilt  YearRemodAdd  YrSold  \n",
       "0       2003          2003    2008  \n",
       "1       1976          1976    2007  \n",
       "2       2001          2002    2008  \n",
       "3       1915          1970    2006  \n",
       "4       2000          2000    2008  \n",
       "\n",
       "[5 rows x 36 columns]"
      ]
     },
     "execution_count": 150,
     "metadata": {},
     "output_type": "execute_result"
    }
   ],
   "source": [
    "num_feat.head()"
   ]
  },
  {
   "cell_type": "code",
   "execution_count": 151,
   "metadata": {},
   "outputs": [
    {
     "data": {
      "text/plain": [
       "Index(['1stFlrSF', '2ndFlrSF', '3SsnPorch', 'BedroomAbvGr', 'BsmtFinSF1',\n",
       "       'BsmtFinSF2', 'BsmtFullBath', 'BsmtHalfBath', 'BsmtUnfSF',\n",
       "       'EnclosedPorch', 'Fireplaces', 'FullBath', 'GarageArea', 'GarageCars',\n",
       "       'GarageYrBlt', 'GrLivArea', 'HalfBath', 'KitchenAbvGr', 'LotArea',\n",
       "       'LotFrontage', 'LowQualFinSF', 'MSSubClass', 'MasVnrArea', 'MiscVal',\n",
       "       'MoSold', 'OpenPorchSF', 'OverallCond', 'OverallQual', 'PoolArea',\n",
       "       'ScreenPorch', 'TotRmsAbvGrd', 'TotalBsmtSF', 'WoodDeckSF', 'YearBuilt',\n",
       "       'YearRemodAdd', 'YrSold'],\n",
       "      dtype='object')"
      ]
     },
     "execution_count": 151,
     "metadata": {},
     "output_type": "execute_result"
    }
   ],
   "source": [
    "num_feat_index"
   ]
  },
  {
   "cell_type": "markdown",
   "metadata": {},
   "source": [
    "### （3）类别性变量"
   ]
  },
  {
   "cell_type": "code",
   "execution_count": 152,
   "metadata": {
    "scrolled": false
   },
   "outputs": [
    {
     "data": {
      "text/html": [
       "<div>\n",
       "<style scoped>\n",
       "    .dataframe tbody tr th:only-of-type {\n",
       "        vertical-align: middle;\n",
       "    }\n",
       "\n",
       "    .dataframe tbody tr th {\n",
       "        vertical-align: top;\n",
       "    }\n",
       "\n",
       "    .dataframe thead th {\n",
       "        text-align: right;\n",
       "    }\n",
       "</style>\n",
       "<table border=\"1\" class=\"dataframe\">\n",
       "  <thead>\n",
       "    <tr style=\"text-align: right;\">\n",
       "      <th></th>\n",
       "      <th>Alley</th>\n",
       "      <th>BldgType</th>\n",
       "      <th>BsmtCond</th>\n",
       "      <th>BsmtExposure</th>\n",
       "      <th>BsmtFinType1</th>\n",
       "      <th>BsmtFinType2</th>\n",
       "      <th>BsmtQual</th>\n",
       "      <th>CentralAir</th>\n",
       "      <th>Condition1</th>\n",
       "      <th>Condition2</th>\n",
       "      <th>...</th>\n",
       "      <th>MiscFeature</th>\n",
       "      <th>Neighborhood</th>\n",
       "      <th>PavedDrive</th>\n",
       "      <th>PoolQC</th>\n",
       "      <th>RoofMatl</th>\n",
       "      <th>RoofStyle</th>\n",
       "      <th>SaleCondition</th>\n",
       "      <th>SaleType</th>\n",
       "      <th>Street</th>\n",
       "      <th>Utilities</th>\n",
       "    </tr>\n",
       "  </thead>\n",
       "  <tbody>\n",
       "    <tr>\n",
       "      <th>0</th>\n",
       "      <td>NaN</td>\n",
       "      <td>1Fam</td>\n",
       "      <td>TA</td>\n",
       "      <td>No</td>\n",
       "      <td>GLQ</td>\n",
       "      <td>Unf</td>\n",
       "      <td>Gd</td>\n",
       "      <td>Y</td>\n",
       "      <td>Norm</td>\n",
       "      <td>Norm</td>\n",
       "      <td>...</td>\n",
       "      <td>NaN</td>\n",
       "      <td>CollgCr</td>\n",
       "      <td>Y</td>\n",
       "      <td>NaN</td>\n",
       "      <td>CompShg</td>\n",
       "      <td>Gable</td>\n",
       "      <td>Normal</td>\n",
       "      <td>WD</td>\n",
       "      <td>Pave</td>\n",
       "      <td>AllPub</td>\n",
       "    </tr>\n",
       "    <tr>\n",
       "      <th>1</th>\n",
       "      <td>NaN</td>\n",
       "      <td>1Fam</td>\n",
       "      <td>TA</td>\n",
       "      <td>Gd</td>\n",
       "      <td>ALQ</td>\n",
       "      <td>Unf</td>\n",
       "      <td>Gd</td>\n",
       "      <td>Y</td>\n",
       "      <td>Feedr</td>\n",
       "      <td>Norm</td>\n",
       "      <td>...</td>\n",
       "      <td>NaN</td>\n",
       "      <td>Veenker</td>\n",
       "      <td>Y</td>\n",
       "      <td>NaN</td>\n",
       "      <td>CompShg</td>\n",
       "      <td>Gable</td>\n",
       "      <td>Normal</td>\n",
       "      <td>WD</td>\n",
       "      <td>Pave</td>\n",
       "      <td>AllPub</td>\n",
       "    </tr>\n",
       "    <tr>\n",
       "      <th>2</th>\n",
       "      <td>NaN</td>\n",
       "      <td>1Fam</td>\n",
       "      <td>TA</td>\n",
       "      <td>Mn</td>\n",
       "      <td>GLQ</td>\n",
       "      <td>Unf</td>\n",
       "      <td>Gd</td>\n",
       "      <td>Y</td>\n",
       "      <td>Norm</td>\n",
       "      <td>Norm</td>\n",
       "      <td>...</td>\n",
       "      <td>NaN</td>\n",
       "      <td>CollgCr</td>\n",
       "      <td>Y</td>\n",
       "      <td>NaN</td>\n",
       "      <td>CompShg</td>\n",
       "      <td>Gable</td>\n",
       "      <td>Normal</td>\n",
       "      <td>WD</td>\n",
       "      <td>Pave</td>\n",
       "      <td>AllPub</td>\n",
       "    </tr>\n",
       "    <tr>\n",
       "      <th>3</th>\n",
       "      <td>NaN</td>\n",
       "      <td>1Fam</td>\n",
       "      <td>Gd</td>\n",
       "      <td>No</td>\n",
       "      <td>ALQ</td>\n",
       "      <td>Unf</td>\n",
       "      <td>TA</td>\n",
       "      <td>Y</td>\n",
       "      <td>Norm</td>\n",
       "      <td>Norm</td>\n",
       "      <td>...</td>\n",
       "      <td>NaN</td>\n",
       "      <td>Crawfor</td>\n",
       "      <td>Y</td>\n",
       "      <td>NaN</td>\n",
       "      <td>CompShg</td>\n",
       "      <td>Gable</td>\n",
       "      <td>Abnorml</td>\n",
       "      <td>WD</td>\n",
       "      <td>Pave</td>\n",
       "      <td>AllPub</td>\n",
       "    </tr>\n",
       "    <tr>\n",
       "      <th>4</th>\n",
       "      <td>NaN</td>\n",
       "      <td>1Fam</td>\n",
       "      <td>TA</td>\n",
       "      <td>Av</td>\n",
       "      <td>GLQ</td>\n",
       "      <td>Unf</td>\n",
       "      <td>Gd</td>\n",
       "      <td>Y</td>\n",
       "      <td>Norm</td>\n",
       "      <td>Norm</td>\n",
       "      <td>...</td>\n",
       "      <td>NaN</td>\n",
       "      <td>NoRidge</td>\n",
       "      <td>Y</td>\n",
       "      <td>NaN</td>\n",
       "      <td>CompShg</td>\n",
       "      <td>Gable</td>\n",
       "      <td>Normal</td>\n",
       "      <td>WD</td>\n",
       "      <td>Pave</td>\n",
       "      <td>AllPub</td>\n",
       "    </tr>\n",
       "  </tbody>\n",
       "</table>\n",
       "<p>5 rows × 43 columns</p>\n",
       "</div>"
      ],
      "text/plain": [
       "  Alley BldgType BsmtCond BsmtExposure BsmtFinType1 BsmtFinType2 BsmtQual  \\\n",
       "0   NaN     1Fam       TA           No          GLQ          Unf       Gd   \n",
       "1   NaN     1Fam       TA           Gd          ALQ          Unf       Gd   \n",
       "2   NaN     1Fam       TA           Mn          GLQ          Unf       Gd   \n",
       "3   NaN     1Fam       Gd           No          ALQ          Unf       TA   \n",
       "4   NaN     1Fam       TA           Av          GLQ          Unf       Gd   \n",
       "\n",
       "  CentralAir Condition1 Condition2    ...    MiscFeature Neighborhood  \\\n",
       "0          Y       Norm       Norm    ...            NaN      CollgCr   \n",
       "1          Y      Feedr       Norm    ...            NaN      Veenker   \n",
       "2          Y       Norm       Norm    ...            NaN      CollgCr   \n",
       "3          Y       Norm       Norm    ...            NaN      Crawfor   \n",
       "4          Y       Norm       Norm    ...            NaN      NoRidge   \n",
       "\n",
       "  PavedDrive PoolQC RoofMatl RoofStyle SaleCondition SaleType Street Utilities  \n",
       "0          Y    NaN  CompShg     Gable        Normal       WD   Pave    AllPub  \n",
       "1          Y    NaN  CompShg     Gable        Normal       WD   Pave    AllPub  \n",
       "2          Y    NaN  CompShg     Gable        Normal       WD   Pave    AllPub  \n",
       "3          Y    NaN  CompShg     Gable       Abnorml       WD   Pave    AllPub  \n",
       "4          Y    NaN  CompShg     Gable        Normal       WD   Pave    AllPub  \n",
       "\n",
       "[5 rows x 43 columns]"
      ]
     },
     "execution_count": 152,
     "metadata": {},
     "output_type": "execute_result"
    }
   ],
   "source": [
    "cate_feat.head()"
   ]
  },
  {
   "cell_type": "code",
   "execution_count": 153,
   "metadata": {},
   "outputs": [
    {
     "data": {
      "text/plain": [
       "Index(['Alley', 'BldgType', 'BsmtCond', 'BsmtExposure', 'BsmtFinType1',\n",
       "       'BsmtFinType2', 'BsmtQual', 'CentralAir', 'Condition1', 'Condition2',\n",
       "       'Electrical', 'ExterCond', 'ExterQual', 'Exterior1st', 'Exterior2nd',\n",
       "       'Fence', 'FireplaceQu', 'Foundation', 'Functional', 'GarageCond',\n",
       "       'GarageFinish', 'GarageQual', 'GarageType', 'Heating', 'HeatingQC',\n",
       "       'HouseStyle', 'KitchenQual', 'LandContour', 'LandSlope', 'LotConfig',\n",
       "       'LotShape', 'MSZoning', 'MasVnrType', 'MiscFeature', 'Neighborhood',\n",
       "       'PavedDrive', 'PoolQC', 'RoofMatl', 'RoofStyle', 'SaleCondition',\n",
       "       'SaleType', 'Street', 'Utilities'],\n",
       "      dtype='object')"
      ]
     },
     "execution_count": 153,
     "metadata": {},
     "output_type": "execute_result"
    }
   ],
   "source": [
    "cate_feat_index"
   ]
  },
  {
   "cell_type": "markdown",
   "metadata": {},
   "source": [
    "### （4）数值型变量预处理\n",
    "\n",
    "* 偏态分布变量\n",
    "    - log转换\n",
    "* "
   ]
  },
  {
   "cell_type": "code",
   "execution_count": 158,
   "metadata": {},
   "outputs": [],
   "source": [
    "skewed_feat, skewed_feat_index = feature_classification.skewed_features(data = all_data, num_feat_idx = num_feat_index, limit_value = 0.75)"
   ]
  },
  {
   "cell_type": "code",
   "execution_count": 160,
   "metadata": {},
   "outputs": [
    {
     "data": {
      "text/plain": [
       "Index(['1stFlrSF', '2ndFlrSF', '3SsnPorch', 'BsmtFinSF1', 'BsmtFinSF2',\n",
       "       'BsmtHalfBath', 'BsmtUnfSF', 'EnclosedPorch', 'GrLivArea',\n",
       "       'KitchenAbvGr', 'LotArea', 'LotFrontage', 'LowQualFinSF', 'MSSubClass',\n",
       "       'MasVnrArea', 'MiscVal', 'OpenPorchSF', 'PoolArea', 'ScreenPorch',\n",
       "       'TotRmsAbvGrd', 'TotalBsmtSF', 'WoodDeckSF'],\n",
       "      dtype='object')"
      ]
     },
     "execution_count": 160,
     "metadata": {},
     "output_type": "execute_result"
    }
   ],
   "source": [
    "skewed_feat_index"
   ]
  },
  {
   "cell_type": "code",
   "execution_count": 181,
   "metadata": {},
   "outputs": [
    {
     "data": {
      "text/plain": [
       "1stFlrSF         1083\n",
       "2ndFlrSF          635\n",
       "3SsnPorch          31\n",
       "Alley               3\n",
       "BedroomAbvGr        8\n",
       "BldgType            5\n",
       "BsmtCond            5\n",
       "BsmtExposure        5\n",
       "BsmtFinSF1        992\n",
       "BsmtFinSF2        273\n",
       "BsmtFinType1        7\n",
       "BsmtFinType2        7\n",
       "BsmtFullBath        6\n",
       "BsmtHalfBath        5\n",
       "BsmtQual            5\n",
       "BsmtUnfSF        1136\n",
       "CentralAir          2\n",
       "Condition1          9\n",
       "Condition2          8\n",
       "Electrical          6\n",
       "EnclosedPorch     183\n",
       "ExterCond           5\n",
       "ExterQual           4\n",
       "Exterior1st        16\n",
       "Exterior2nd        17\n",
       "Fence               5\n",
       "FireplaceQu         6\n",
       "Fireplaces          5\n",
       "Foundation          6\n",
       "FullBath            5\n",
       "                 ... \n",
       "LotFrontage       614\n",
       "LotShape            4\n",
       "LowQualFinSF       36\n",
       "MSSubClass         16\n",
       "MSZoning            6\n",
       "MasVnrArea        467\n",
       "MasVnrType          5\n",
       "MiscFeature         5\n",
       "MiscVal            38\n",
       "MoSold             12\n",
       "Neighborhood       25\n",
       "OpenPorchSF       252\n",
       "OverallCond         9\n",
       "OverallQual        10\n",
       "PavedDrive          3\n",
       "PoolArea           14\n",
       "PoolQC              4\n",
       "RoofMatl            8\n",
       "RoofStyle           6\n",
       "SaleCondition       6\n",
       "SaleType           10\n",
       "ScreenPorch       121\n",
       "Street              2\n",
       "TotRmsAbvGrd       14\n",
       "TotalBsmtSF      1059\n",
       "Utilities           3\n",
       "WoodDeckSF        379\n",
       "YearBuilt         118\n",
       "YearRemodAdd       61\n",
       "YrSold              5\n",
       "Length: 79, dtype: int64"
      ]
     },
     "execution_count": 181,
     "metadata": {},
     "output_type": "execute_result"
    }
   ],
   "source": []
  },
  {
   "cell_type": "markdown",
   "metadata": {},
   "source": [
    "### （5）类别性变量预处理"
   ]
  },
  {
   "cell_type": "code",
   "execution_count": null,
   "metadata": {},
   "outputs": [],
   "source": []
  }
 ],
 "metadata": {
  "kernelspec": {
   "display_name": "Python 3",
   "language": "python",
   "name": "python3"
  },
  "language_info": {
   "codemirror_mode": {
    "name": "ipython",
    "version": 3
   },
   "file_extension": ".py",
   "mimetype": "text/x-python",
   "name": "python",
   "nbconvert_exporter": "python",
   "pygments_lexer": "ipython3",
   "version": "3.6.5"
  }
 },
 "nbformat": 4,
 "nbformat_minor": 2
}
