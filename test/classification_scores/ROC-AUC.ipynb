{
 "cells": [
  {
   "cell_type": "code",
   "execution_count": 30,
   "metadata": {},
   "outputs": [],
   "source": [
    "import itertools\n",
    "import numpy as np\n",
    "import matplotlib.pyplot as plt\n",
    "from sklearn import datasets\n",
    "from sklearn.model_selection import train_test_split\n",
    "from sklearn import svm\n",
    "from sklearn.metrics import confusion_matrix\n",
    "from sklearn.metrics import roc_curve\n",
    "from sklearn.metrics import roc_auc_score\n",
    "from sklearn.metrics import auc"
   ]
  },
  {
   "cell_type": "markdown",
   "metadata": {},
   "source": [
    "### 二分类模型"
   ]
  },
  {
   "cell_type": "code",
   "execution_count": 32,
   "metadata": {},
   "outputs": [
    {
     "name": "stdout",
     "output_type": "stream",
     "text": [
      "[1 1 1 1 1 0 1 0 1 0 0 1 0 0 1 0 0 0 1 0 1 0 0 1 1 1 1 1 0 0 0 1 0 1 0 1 0\n",
      " 0 0 0 1 1 1 1 0 1 1 0 1 0]\n",
      "[0 1 1 1 1 0 0 0 1 0 0 0 0 1 1 0 1 1 0 0 1 0 0 1 1 0 1 1 0 0 0 1 0 1 0 1 1\n",
      " 0 1 0 1 1 1 1 0 1 1 1 1 1]\n",
      "[-0.2   0.3   0.2   0.28  0.43 -0.15 -0.09 -0.13  0.23 -0.24 -0.06 -0.15\n",
      " -0.05  0.1   0.05 -0.11  0.16  0.05 -0.08 -0.26  0.25 -0.18 -0.38  0.26\n",
      "  0.13 -0.04  0.39  0.42 -0.48 -0.31 -0.09  0.01 -0.2   0.4  -0.05  0.12\n",
      "  0.06 -0.07  0.   -0.4   0.03  0.2   0.07  0.5  -0.28  0.31  0.19  0.12\n",
      "  0.03  0.22]\n"
     ]
    }
   ],
   "source": [
    "# 数据\n",
    "iris = datasets.load_iris()\n",
    "X = iris.data\n",
    "y = iris.target\n",
    "class_names = iris.target_names[:-1]\n",
    "random_state = np.random.RandomState(0)\n",
    "n_samples, n_features = X.shape\n",
    "X = np.c_[X, random_state.randn(n_samples, 200 * n_features)]\n",
    "X_train, X_test, y_train, y_test = train_test_split(X[y < 2], y[y < 2], \n",
    "                                                    test_size = 0.5, random_state = random_state)\n",
    "\n",
    "# 模型\n",
    "classifier = svm.LinearSVC(random_state = random_state)\n",
    "classifier.fit(X_train, y_train)\n",
    "y_pred = classifier.predict(X_test)\n",
    "y_score = classifier.decision_function(X_test)\n",
    "print(y_test)\n",
    "print(y_pred)\n",
    "print(y_score)"
   ]
  },
  {
   "cell_type": "markdown",
   "metadata": {},
   "source": [
    "#### Confusion Matrix"
   ]
  },
  {
   "cell_type": "code",
   "execution_count": 11,
   "metadata": {
    "scrolled": true
   },
   "outputs": [
    {
     "name": "stdout",
     "output_type": "stream",
     "text": [
      "[[17  7]\n",
      " [ 5 21]]\n",
      "17 7 5 21\n"
     ]
    }
   ],
   "source": [
    "np.set_printoptions(precision = 2)\n",
    "cm = confusion_matrix(y_test, y_pred)\n",
    "TN, FP, FN, TP = cm.ravel()\n",
    "print(cm)\n",
    "print(TN, FP, FN, TP)"
   ]
  },
  {
   "cell_type": "code",
   "execution_count": 12,
   "metadata": {},
   "outputs": [
    {
     "name": "stdout",
     "output_type": "stream",
     "text": [
      "正规化后的混淆矩阵：\n",
      "[[0.71 0.29]\n",
      " [0.19 0.81]]\n",
      "没有进行正规化的混淆矩阵：\n",
      "[[17  7]\n",
      " [ 5 21]]\n"
     ]
    },
    {
     "data": {
      "image/png": "[encoded data removed]",
      "text/plain": [
       "<Figure size 432x288 with 1 Axes>"
      ]
     },
     "metadata": {},
     "output_type": "display_data"
    },
    {
     "data": {
      "image/png": "[encoded data removed]",
      "text/plain": [
       "<Figure size 432x288 with 1 Axes>"
      ]
     },
     "metadata": {},
     "output_type": "display_data"
    }
   ],
   "source": [
    "# print and plot confusion matrix\n",
    "def plot_confusion_matrix(cm, classes, normalize = False, title = \"Confusion Matrix\", cmap = plt.cm.Blues):\n",
    "    \"\"\"\n",
    "    # print and plot the confusion matrix\n",
    "    \"\"\"\n",
    "    if normalize:\n",
    "        cm = cm.astype('float') / cm.sum(axis = 1)[:, np.newaxis]\n",
    "        print('正规化后的混淆矩阵：')\n",
    "    else:\n",
    "        print('没有进行正规化的混淆矩阵：')\n",
    "    print(cm)\n",
    "    \n",
    "    plt.imshow(cm, interpolation = 'nearest', cmap = cmap)\n",
    "    plt.title(title)\n",
    "    tick_marks = np.arange(len(classes))\n",
    "    plt.xticks(tick_marks, classes, rotation = 45)\n",
    "    plt.yticks(tick_marks, classes)\n",
    "    \n",
    "    fmt = '0.2f' if normalize else 'd'\n",
    "    thresh = cm.max() / 2.0\n",
    "    for i, j in itertools.product(range(cm.shape[0]), range(cm.shape[1])):\n",
    "        plt.text(j, \n",
    "                 i,\n",
    "                 format(cm[i, j], fmt),\n",
    "                 horizontalalignment = 'center',\n",
    "                 color = 'white' if cm[i, j] > thresh else 'black')\n",
    "    plt.xlabel('Predicted label')\n",
    "    plt.ylabel('True label')\n",
    "    plt.tight_layout()\n",
    "\n",
    "plt.figure()\n",
    "plot_confusion_matrix(cm, classes = class_names, normalize = True, title = \"Normalized Confusion Matrix\")\n",
    "plt.figure()\n",
    "plot_confusion_matrix(cm, classes = class_names, normalize = False, title = \"non Normalized Confusion Matrix\")\n",
    "plt.show()"
   ]
  },
  {
   "cell_type": "code",
   "execution_count": 31,
   "metadata": {},
   "outputs": [
    {
     "name": "stdout",
     "output_type": "stream",
     "text": [
      "[0.   0.   0.   0.04 0.04 0.08 0.08 0.17 0.17 0.21 0.21 0.25 0.25 0.29\n",
      " 0.29 0.46 0.46 0.58 0.58 0.67 0.67 1.  ]\n",
      "[0.   0.04 0.42 0.42 0.54 0.54 0.62 0.62 0.65 0.65 0.69 0.69 0.81 0.81\n",
      " 0.85 0.85 0.92 0.92 0.96 0.96 1.   1.  ]\n",
      "[ 1.5   0.5   0.23  0.22  0.19  0.16  0.12  0.1   0.07  0.06  0.05  0.05\n",
      "  0.01  0.   -0.04 -0.07 -0.09 -0.13 -0.15 -0.18 -0.2  -0.48]\n",
      "0.8509615384615385\n",
      "0.8509615384615385\n"
     ]
    }
   ],
   "source": [
    "FPR, TPR, thresholds = roc_curve(y_test, y_score)\n",
    "roc_auc = roc_auc_score(y_test, y_score)\n",
    "auc_score = auc(FPR, TPR)\n",
    "print(FPR)\n",
    "print(TPR)\n",
    "print(thresholds)\n",
    "print(roc_auc)\n",
    "print(auc_score)"
   ]
  },
  {
   "cell_type": "code",
   "execution_count": 28,
   "metadata": {},
   "outputs": [
    {
     "data": {
      "image/png": "[encoded data removed]",
      "text/plain": [
       "<Figure size 432x288 with 1 Axes>"
      ]
     },
     "metadata": {},
     "output_type": "display_data"
    }
   ],
   "source": [
    "def plot_roc(FPR, TPR, roc_auc):\n",
    "    plt.figure()\n",
    "    lw = 2\n",
    "    plt.plot(FPR, TPR, color = 'darkorange', lw = lw, label = 'ROC curve (area = %0.2f)' % roc_auc)\n",
    "    plt.plot([0, 1], [0, 1], color = 'navy', lw = lw, linestyle = '--')\n",
    "    plt.xlim([0.0, 1.0])\n",
    "    plt.ylim([0.0, 1.05])\n",
    "    plt.xlabel('False Postive Rate(FPR)')\n",
    "    plt.ylabel('True Postive Rate(TPR)')\n",
    "    plt.title('Receiver Operating Characteristic')\n",
    "    plt.legend(loc = 'lower right')\n",
    "    plt.show()\n",
    "\n",
    "plot_roc(FPR, TPR, roc_auc)"
   ]
  },
  {
   "cell_type": "markdown",
   "metadata": {},
   "source": [
    "### 多分类模型"
   ]
  },
  {
   "cell_type": "code",
   "execution_count": 35,
   "metadata": {},
   "outputs": [],
   "source": [
    "from sklearn.preprocessing import label_binarize\n",
    "from sklearn.multiclass import OneVsRestClassifier"
   ]
  },
  {
   "cell_type": "code",
   "execution_count": 41,
   "metadata": {},
   "outputs": [
    {
     "name": "stdout",
     "output_type": "stream",
     "text": [
      "[[0 0 1]\n",
      " [0 1 0]\n",
      " [1 0 0]\n",
      " [0 0 1]\n",
      " [1 0 0]\n",
      " [0 0 1]\n",
      " [1 0 0]\n",
      " [0 1 0]\n",
      " [0 1 0]\n",
      " [0 1 0]\n",
      " [0 0 1]\n",
      " [0 1 0]\n",
      " [0 1 0]\n",
      " [0 1 0]\n",
      " [0 1 0]\n",
      " [1 0 0]\n",
      " [0 1 0]\n",
      " [0 1 0]\n",
      " [1 0 0]\n",
      " [1 0 0]\n",
      " [0 0 1]\n",
      " [0 1 0]\n",
      " [1 0 0]\n",
      " [1 0 0]\n",
      " [0 0 1]\n",
      " [1 0 0]\n",
      " [1 0 0]\n",
      " [0 1 0]\n",
      " [0 1 0]\n",
      " [1 0 0]\n",
      " [0 0 1]\n",
      " [0 1 0]\n",
      " [1 0 0]\n",
      " [0 0 1]\n",
      " [0 0 1]\n",
      " [0 1 0]\n",
      " [1 0 0]\n",
      " [0 1 0]\n",
      " [0 1 0]\n",
      " [0 1 0]\n",
      " [0 0 1]\n",
      " [1 0 0]\n",
      " [0 0 1]\n",
      " [1 0 0]\n",
      " [1 0 0]\n",
      " [0 1 0]\n",
      " [0 0 1]\n",
      " [0 0 1]\n",
      " [0 0 1]\n",
      " [0 0 1]\n",
      " [0 1 0]\n",
      " [0 0 1]\n",
      " [0 1 0]\n",
      " [0 1 0]\n",
      " [0 0 1]\n",
      " [0 0 1]\n",
      " [0 0 1]\n",
      " [0 0 1]\n",
      " [0 1 0]\n",
      " [0 0 1]\n",
      " [0 1 0]\n",
      " [1 0 0]\n",
      " [0 0 1]\n",
      " [0 1 0]\n",
      " [0 1 0]\n",
      " [0 1 0]\n",
      " [0 1 0]\n",
      " [0 0 1]\n",
      " [1 0 0]\n",
      " [1 0 0]\n",
      " [0 0 1]\n",
      " [0 1 0]\n",
      " [1 0 0]\n",
      " [1 0 0]\n",
      " [0 1 0]]\n",
      "[[0 0 1]\n",
      " [0 1 0]\n",
      " [1 0 0]\n",
      " [0 0 1]\n",
      " [1 0 0]\n",
      " [0 0 1]\n",
      " [1 0 0]\n",
      " [0 0 0]\n",
      " [0 0 0]\n",
      " [0 0 0]\n",
      " [0 1 1]\n",
      " [0 0 0]\n",
      " [0 0 0]\n",
      " [0 0 0]\n",
      " [0 0 0]\n",
      " [1 0 0]\n",
      " [0 0 0]\n",
      " [0 1 0]\n",
      " [1 0 0]\n",
      " [1 0 0]\n",
      " [0 0 1]\n",
      " [0 0 0]\n",
      " [1 0 0]\n",
      " [1 0 0]\n",
      " [0 0 1]\n",
      " [1 0 0]\n",
      " [1 0 0]\n",
      " [0 0 0]\n",
      " [0 1 0]\n",
      " [1 0 0]\n",
      " [0 0 1]\n",
      " [0 0 0]\n",
      " [1 0 0]\n",
      " [0 0 1]\n",
      " [0 0 1]\n",
      " [0 1 0]\n",
      " [1 0 0]\n",
      " [0 1 1]\n",
      " [0 0 0]\n",
      " [0 1 0]\n",
      " [0 0 1]\n",
      " [1 0 0]\n",
      " [0 0 1]\n",
      " [1 0 0]\n",
      " [1 0 0]\n",
      " [0 1 0]\n",
      " [0 0 1]\n",
      " [0 0 1]\n",
      " [0 1 0]\n",
      " [0 1 1]\n",
      " [0 1 0]\n",
      " [0 0 1]\n",
      " [0 0 0]\n",
      " [0 1 0]\n",
      " [0 0 1]\n",
      " [0 0 1]\n",
      " [0 1 1]\n",
      " [0 1 1]\n",
      " [0 0 0]\n",
      " [0 0 1]\n",
      " [0 0 0]\n",
      " [1 0 0]\n",
      " [0 1 1]\n",
      " [0 1 0]\n",
      " [0 0 0]\n",
      " [0 1 0]\n",
      " [0 0 0]\n",
      " [0 0 1]\n",
      " [1 0 0]\n",
      " [1 0 0]\n",
      " [0 0 1]\n",
      " [0 0 0]\n",
      " [1 0 0]\n",
      " [1 0 0]\n",
      " [0 0 0]]\n",
      "[[-3.58 -0.31  1.78]\n",
      " [-2.15  1.11 -2.39]\n",
      " [ 1.89 -3.9  -6.3 ]\n",
      " [-4.53 -0.63  1.96]\n",
      " [ 1.4  -1.78 -6.26]\n",
      " [-4.3  -1.45  3.29]\n",
      " [ 1.6  -2.1  -6.38]\n",
      " [-2.65 -1.24 -0.52]\n",
      " [-2.87 -0.52 -0.72]\n",
      " [-1.98 -0.43 -1.71]\n",
      " [-3.74  0.5   0.82]\n",
      " [-2.38 -1.4  -0.61]\n",
      " [-2.64 -0.18 -0.77]\n",
      " [-2.7  -0.48 -0.71]\n",
      " [-2.68 -0.48 -0.42]\n",
      " [ 1.65 -2.2  -6.41]\n",
      " [-2.52 -0.53 -0.53]\n",
      " [-2.42  0.45 -0.99]\n",
      " [ 1.25 -0.82 -6.36]\n",
      " [ 1.75 -3.24 -6.25]\n",
      " [-3.19 -0.16  1.  ]\n",
      " [-2.45 -0.59 -0.25]\n",
      " [ 1.   -1.57 -5.53]\n",
      " [ 1.26 -0.38 -6.33]\n",
      " [-3.02 -0.39  0.21]\n",
      " [ 2.02 -2.23 -6.71]\n",
      " [ 1.11 -2.7  -5.2 ]\n",
      " [-2.24 -0.61 -1.25]\n",
      " [-1.35  1.1  -2.86]\n",
      " [ 1.2  -1.81 -5.82]\n",
      " [-3.58 -0.96  1.34]\n",
      " [-2.44 -0.51 -0.14]\n",
      " [ 1.44 -2.1  -6.33]\n",
      " [-3.01 -0.78  0.52]\n",
      " [-4.02 -0.35  1.92]\n",
      " [-1.94  0.13 -1.25]\n",
      " [ 1.33 -2.99 -6.  ]\n",
      " [-3.27  0.09  0.45]\n",
      " [-2.16 -0.81 -0.89]\n",
      " [-2.03  0.2  -1.78]\n",
      " [-3.79 -0.99  1.49]\n",
      " [ 1.51 -1.24 -6.5 ]\n",
      " [-3.43 -1.46  1.16]\n",
      " [ 1.16 -2.11 -5.47]\n",
      " [ 1.54 -2.65 -6.34]\n",
      " [-1.71  1.86 -2.7 ]\n",
      " [-3.63 -0.77  1.23]\n",
      " [-4.01 -1.72  2.6 ]\n",
      " [-3.39  1.26 -0.11]\n",
      " [-4.21  0.41  1.32]\n",
      " [-1.93  0.52 -2.02]\n",
      " [-4.52 -1.26  2.2 ]\n",
      " [-2.57 -1.57 -0.04]\n",
      " [-1.87  0.77 -2.17]\n",
      " [-3.18 -0.16  0.26]\n",
      " [-3.19 -0.24  0.18]\n",
      " [-2.77  0.82  0.19]\n",
      " [-3.43  0.3   0.46]\n",
      " [-2.57 -1.57 -0.78]\n",
      " [-3.43 -0.92  1.05]\n",
      " [-2.31 -1.73 -0.13]\n",
      " [ 1.15 -0.96 -6.15]\n",
      " [-3.4   0.08  1.  ]\n",
      " [-2.21  0.08 -1.16]\n",
      " [-1.51 -0.57 -1.99]\n",
      " [-2.11  0.53 -1.52]\n",
      " [-2.53 -0.75 -0.53]\n",
      " [-4.06 -1.39  1.7 ]\n",
      " [ 1.54 -2.61 -6.28]\n",
      " [ 1.67 -0.63 -6.83]\n",
      " [-3.63 -0.12  0.97]\n",
      " [-2.02 -0.63 -1.21]\n",
      " [ 1.18 -1.89 -6.18]\n",
      " [ 1.79 -4.48 -5.86]\n",
      " [-2.86 -1.26 -0.32]]\n"
     ]
    }
   ],
   "source": [
    "# 数据\n",
    "iris = datasets.load_iris()\n",
    "X = iris.data\n",
    "y = iris.target\n",
    "y = label_binarize(y, classes = [0, 1, 2])\n",
    "n_classes = y.shape[1]\n",
    "X_train, X_test, y_train, y_test = train_test_split(X, y, test_size = 0.5, random_state = 0)\n",
    "\n",
    "# 模型\n",
    "classifier = OneVsRestClassifier(svm.SVC(kernel = 'linear', probability = True, random_state = 0))\n",
    "classifier.fit(X_train, y_train)\n",
    "y_pred = classifier.predict(X_test)\n",
    "y_score = classifier.decision_function(X_test)\n",
    "print(y_test)\n",
    "print(y_pred)\n",
    "print(y_score)"
   ]
  },
  {
   "cell_type": "markdown",
   "metadata": {},
   "source": [
    "### 模型表现"
   ]
  },
  {
   "cell_type": "code",
   "execution_count": 50,
   "metadata": {},
   "outputs": [
    {
     "name": "stdout",
     "output_type": "stream",
     "text": [
      "{0: array([0., 0., 0., 1.]), 1: array([0.  , 0.  , 0.02, 0.02, 0.04, 0.04, 0.07, 0.07, 0.11, 0.11, 0.2 ,\n",
      "       0.2 , 0.31, 0.31, 0.33, 0.33, 0.36, 0.36, 0.4 , 0.4 , 0.51, 0.51,\n",
      "       0.56, 0.56, 0.58, 0.58, 0.62, 0.62, 0.64, 0.64, 0.67, 0.67, 1.  ]), 2: array([0.  , 0.  , 0.  , 0.02, 0.02, 0.04, 0.04, 1.  ]), 'micro': array([0.  , 0.  , 0.  , 0.01, 0.01, 0.01, 0.01, 0.02, 0.02, 0.04, 0.04,\n",
      "       0.05, 0.05, 0.09, 0.09, 0.14, 0.14, 0.16, 0.16, 0.17, 0.17, 0.17,\n",
      "       0.17, 0.19, 0.19, 0.22, 0.22, 0.28, 0.28, 0.31, 0.31, 0.32, 0.32,\n",
      "       0.35, 0.35, 0.35, 0.35, 0.37, 0.37, 1.  ])}\n",
      "{0: array([0.  , 0.05, 1.  , 1.  ]), 1: array([0.  , 0.03, 0.03, 0.1 , 0.1 , 0.2 , 0.2 , 0.23, 0.23, 0.37, 0.37,\n",
      "       0.4 , 0.4 , 0.7 , 0.7 , 0.73, 0.73, 0.77, 0.77, 0.8 , 0.8 , 0.83,\n",
      "       0.83, 0.87, 0.87, 0.9 , 0.9 , 0.93, 0.93, 0.97, 0.97, 1.  , 1.  ]), 2: array([0.  , 0.04, 0.79, 0.79, 0.96, 0.96, 1.  , 1.  ]), 'micro': array([0.  , 0.01, 0.33, 0.33, 0.55, 0.55, 0.6 , 0.6 , 0.63, 0.63, 0.73,\n",
      "       0.73, 0.75, 0.75, 0.76, 0.76, 0.83, 0.83, 0.87, 0.87, 0.88, 0.88,\n",
      "       0.89, 0.89, 0.91, 0.91, 0.92, 0.92, 0.93, 0.93, 0.95, 0.95, 0.96,\n",
      "       0.96, 0.97, 0.97, 0.99, 0.99, 1.  , 1.  ])}\n",
      "{0: 1.0, 1: 0.7214814814814815, 2: 0.9950980392156863, 'micro': 0.9390222222222223}\n"
     ]
    }
   ],
   "source": [
    "FPR = dict()\n",
    "TPR = dict()\n",
    "roc_auc = dict()\n",
    "\n",
    "for i in range(n_classes):\n",
    "    FPR[i], TPR[i], _ = roc_curve(y_test[:, i], y_score[:, i])\n",
    "    roc_auc[i] = auc(FPR[i], TPR[i])\n",
    "    # roc_auc[i] = roc_auc_score(y_test[:, i], y_score[:, i])\n",
    "\n",
    "FPR['micro'], TPR['micro'], _ = roc_curve(y_test.ravel(), y_score.ravel())\n",
    "roc_auc['micro'] = auc(FPR['micro'], TPR['micro'])\n",
    "print(FPR)\n",
    "print(TPR)\n",
    "print(roc_auc)"
   ]
  },
  {
   "cell_type": "code",
   "execution_count": 59,
   "metadata": {},
   "outputs": [
    {
     "name": "stdout",
     "output_type": "stream",
     "text": [
      "{0: array([0., 0., 0., 1.]), 1: array([0.  , 0.  , 0.02, 0.02, 0.04, 0.04, 0.07, 0.07, 0.11, 0.11, 0.2 ,\n",
      "       0.2 , 0.31, 0.31, 0.33, 0.33, 0.36, 0.36, 0.4 , 0.4 , 0.51, 0.51,\n",
      "       0.56, 0.56, 0.58, 0.58, 0.62, 0.62, 0.64, 0.64, 0.67, 0.67, 1.  ]), 2: array([0.  , 0.  , 0.  , 0.02, 0.02, 0.04, 0.04, 1.  ]), 'micro': array([0.  , 0.  , 0.  , 0.01, 0.01, 0.01, 0.01, 0.02, 0.02, 0.04, 0.04,\n",
      "       0.05, 0.05, 0.09, 0.09, 0.14, 0.14, 0.16, 0.16, 0.17, 0.17, 0.17,\n",
      "       0.17, 0.19, 0.19, 0.22, 0.22, 0.28, 0.28, 0.31, 0.31, 0.32, 0.32,\n",
      "       0.35, 0.35, 0.35, 0.35, 0.37, 0.37, 1.  ]), 'macro': array([0.  , 0.02, 0.02, 0.04, 0.04, 0.07, 0.11, 0.2 , 0.31, 0.33, 0.36,\n",
      "       0.4 , 0.51, 0.56, 0.58, 0.62, 0.64, 0.67, 1.  ])}\n",
      "{0: array([0.  , 0.05, 1.  , 1.  ]), 1: array([0.  , 0.03, 0.03, 0.1 , 0.1 , 0.2 , 0.2 , 0.23, 0.23, 0.37, 0.37,\n",
      "       0.4 , 0.4 , 0.7 , 0.7 , 0.73, 0.73, 0.77, 0.77, 0.8 , 0.8 , 0.83,\n",
      "       0.83, 0.87, 0.87, 0.9 , 0.9 , 0.93, 0.93, 0.97, 0.97, 1.  , 1.  ]), 2: array([0.  , 0.04, 0.79, 0.79, 0.96, 0.96, 1.  , 1.  ]), 'micro': array([0.  , 0.01, 0.33, 0.33, 0.55, 0.55, 0.6 , 0.6 , 0.63, 0.63, 0.73,\n",
      "       0.73, 0.75, 0.75, 0.76, 0.76, 0.83, 0.83, 0.87, 0.87, 0.88, 0.88,\n",
      "       0.89, 0.89, 0.91, 0.91, 0.92, 0.92, 0.93, 0.93, 0.95, 0.95, 0.96,\n",
      "       0.96, 0.97, 0.97, 0.99, 0.99, 1.  , 1.  ]), 'macro': array([0.61, 0.66, 0.69, 0.7 , 0.73, 0.74, 0.79, 0.8 , 0.9 , 0.91, 0.92,\n",
      "       0.93, 0.94, 0.96, 0.97, 0.98, 0.99, 1.  , 1.  ])}\n",
      "{0: 1.0, 1: 0.7214814814814815, 2: 0.9950980392156863, 'micro': 0.9390222222222223, 'macro': 0.9154411764705882}\n"
     ]
    }
   ],
   "source": [
    "from scipy import interp\n",
    "\n",
    "all_FPR = np.unique(np.concatenate([FPR[i] for i in range(n_classes)]))\n",
    "\n",
    "mean_TPR = np.zeros_like(all_FPR)\n",
    "for i in range(n_classes):\n",
    "    mean_TPR += interp(all_FPR, FPR[i], TPR[i])\n",
    "mean_TPR /= n_classes\n",
    "\n",
    "FPR['macro'] = all_FPR\n",
    "TPR['macro'] = mean_TPR\n",
    "roc_auc['macro'] = auc(FPR['macro'], TPR['macro'])\n",
    "\n",
    "print(FPR)\n",
    "print(TPR)\n",
    "print(roc_auc)"
   ]
  },
  {
   "cell_type": "code",
   "execution_count": 63,
   "metadata": {},
   "outputs": [
    {
     "data": {
      "image/png": "[encoded data removed]",
      "text/plain": [
       "<Figure size 432x288 with 1 Axes>"
      ]
     },
     "metadata": {},
     "output_type": "display_data"
    }
   ],
   "source": [
    "from itertools import cycle\n",
    "def plot_multiclass_roc(fpr, tpr, roc_auc):\n",
    "    # Finally average it and compute AUC\n",
    "    plt.figure()\n",
    "    lw = 2\n",
    "    plt.plot(fpr[\"micro\"], tpr[\"micro\"],\n",
    "             label='micro-average ROC curve (area = {0:0.2f})' \n",
    "             ''.format(roc_auc[\"micro\"]),\n",
    "             color='deeppink', linestyle=':', linewidth=4)\n",
    "\n",
    "    plt.plot(fpr[\"macro\"], tpr[\"macro\"],\n",
    "             label='macro-average ROC curve (area = {0:0.2f})' \n",
    "             ''.format(roc_auc[\"macro\"]),\n",
    "             color='navy', linestyle=':', linewidth=4)\n",
    "\n",
    "    colors = cycle(['aqua', 'darkorange', 'cornflowerblue'])\n",
    "    for i, color in zip(range(n_classes), colors):\n",
    "        plt.plot(fpr[i], tpr[i], color=color, lw=lw,\n",
    "                 label='ROC curve of class {0} (area = {1:0.2f})'\n",
    "                 ''.format(i, roc_auc[i]))\n",
    "\n",
    "    plt.plot([0, 1], [0, 1], 'k--', lw=lw)\n",
    "    plt.xlim([0.0, 1.0])\n",
    "    plt.ylim([0.0, 1.05])\n",
    "    plt.xlabel('False Positive Rate')\n",
    "    plt.ylabel('True Positive Rate')\n",
    "    plt.title('Some extension of Receiver operating characteristic to multi-class')\n",
    "    plt.legend(loc=\"lower right\")\n",
    "    plt.show()\n",
    "    \n",
    "plot_multiclass_roc(FPR, TPR, roc_auc)"
   ]
  }
 ],
 "metadata": {
  "kernelspec": {
   "display_name": "Python 3",
   "language": "python",
   "name": "python3"
  },
  "language_info": {
   "codemirror_mode": {
    "name": "ipython",
    "version": 3
   },
   "file_extension": ".py",
   "mimetype": "text/x-python",
   "name": "python",
   "nbconvert_exporter": "python",
   "pygments_lexer": "ipython3",
   "version": "3.7.3"
  }
 },
 "nbformat": 4,
 "nbformat_minor": 4
}
