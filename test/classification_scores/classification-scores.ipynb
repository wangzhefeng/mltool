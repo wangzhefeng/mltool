{
 "cells": [
  {
   "cell_type": "markdown",
   "metadata": {},
   "source": [
    "## 目录"
   ]
  },
  {
   "cell_type": "markdown",
   "metadata": {},
   "source": [
    "\n",
    "* Confusion Matrix\n",
    "* Accuracy Score(准确度)\n",
    "* Precision, Recall, F1\n",
    "* Receiver operating cahracteristic(ROC)\n",
    "* Cohen's Kappa\n",
    "* Balanced accuracy score\n",
    "* Hamming Loss\n",
    "* Jaccard similarity coefficient score\n",
    "* Hinge Loss\n",
    "* Log Loss\n",
    "* Matthews correlation coefficient\n",
    "* Zero one Loss\n",
    "* Brier Score Loss\n"
   ]
  },
  {
   "cell_type": "code",
   "execution_count": null,
   "metadata": {},
   "outputs": [],
   "source": []
  }
 ],
 "metadata": {
  "kernelspec": {
   "display_name": "Python 3",
   "language": "python",
   "name": "python3"
  },
  "language_info": {
   "codemirror_mode": {
    "name": "ipython",
    "version": 3
   },
   "file_extension": ".py",
   "mimetype": "text/x-python",
   "name": "python",
   "nbconvert_exporter": "python",
   "pygments_lexer": "ipython3",
   "version": "3.7.3"
  }
 },
 "nbformat": 4,
 "nbformat_minor": 4
}
