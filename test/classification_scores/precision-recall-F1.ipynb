{
 "cells": [
  {
   "cell_type": "code",
   "execution_count": 34,
   "metadata": {},
   "outputs": [],
   "source": [
    "import itertools\n",
    "import numpy as np\n",
    "import matplotlib.pyplot as plt\n",
    "%matplotlib inline\n",
    "from sklearn.svm import LinearSVC\n",
    "from sklearn import datasets\n",
    "from sklearn.model_selection import train_test_split\n",
    "from sklearn.metrics import confusion_matrix\n",
    "from sklearn.metrics import average_precision_score\n",
    "from sklearn.metrics import precision_score\n",
    "from sklearn.metrics import recall_score\n",
    "from sklearn.metrics import f1_score\n",
    "from sklearn.metrics import fbeta_score\n",
    "from sklearn.metrics import precision_recall_curve\n",
    "from sklearn.metrics import precision_recall_fscore_support"
   ]
  },
  {
   "cell_type": "markdown",
   "metadata": {},
   "source": [
    "### 数据"
   ]
  },
  {
   "cell_type": "code",
   "execution_count": 31,
   "metadata": {},
   "outputs": [],
   "source": [
    "iris = datasets.load_iris()\n",
    "X = iris.data\n",
    "y = iris.target\n",
    "class_names = iris.target_names[:-1]\n",
    "random_state = np.random.RandomState(0)\n",
    "n_samples, n_features = X.shape\n",
    "X = np.c_[X, random_state.randn(n_samples, 200 * n_features)]\n",
    "X_train, X_test, y_train, y_test = train_test_split(X[y < 2], y[y < 2], \n",
    "                                                    test_size = 0.5, random_state = random_state)"
   ]
  },
  {
   "cell_type": "markdown",
   "metadata": {},
   "source": [
    "### 分类模型"
   ]
  },
  {
   "cell_type": "code",
   "execution_count": 37,
   "metadata": {
    "scrolled": true
   },
   "outputs": [
    {
     "name": "stdout",
     "output_type": "stream",
     "text": [
      "[1 1 1 1 1 0 1 0 1 0 0 1 0 0 1 0 0 0 1 0 1 0 0 1 1 1 1 1 0 0 0 1 0 1 0 1 0\n",
      " 0 0 0 1 1 1 1 0 1 1 0 1 0]\n",
      "[0 1 1 1 1 0 0 0 1 0 0 0 0 1 1 0 1 1 0 0 1 0 0 1 1 0 1 1 0 0 0 1 0 1 0 1 1\n",
      " 0 1 0 1 1 1 1 0 1 1 1 1 1]\n",
      "[-0.2   0.3   0.2   0.28  0.43 -0.15 -0.09 -0.13  0.23 -0.24 -0.06 -0.15\n",
      " -0.05  0.1   0.05 -0.11  0.16  0.05 -0.08 -0.26  0.25 -0.18 -0.38  0.26\n",
      "  0.13 -0.04  0.39  0.42 -0.48 -0.31 -0.09  0.01 -0.2   0.4  -0.05  0.12\n",
      "  0.06 -0.07  0.   -0.4   0.03  0.2   0.07  0.5  -0.28  0.31  0.19  0.12\n",
      "  0.03  0.22]\n"
     ]
    }
   ],
   "source": [
    "classifier = LinearSVC(random_state = random_state)\n",
    "classifier.fit(X_train, y_train)\n",
    "y_pred = classifier.predict(X_test)\n",
    "y_score = classifier.decision_function(X_test)\n",
    "print(y_test)\n",
    "print(y_pred)\n",
    "print(y_score)"
   ]
  },
  {
   "cell_type": "markdown",
   "metadata": {},
   "source": [
    "### 模型表现"
   ]
  },
  {
   "cell_type": "markdown",
   "metadata": {},
   "source": [
    "####  Confusion Matrix"
   ]
  },
  {
   "cell_type": "code",
   "execution_count": 42,
   "metadata": {},
   "outputs": [
    {
     "name": "stdout",
     "output_type": "stream",
     "text": [
      "[[17  7]\n",
      " [ 5 21]]\n",
      "17 7 5 21\n"
     ]
    }
   ],
   "source": [
    "np.set_printoptions(precision = 2)\n",
    "cm = confusion_matrix(y_test, y_pred)\n",
    "TN, FP, FN, TP = cm.ravel()\n",
    "print(cm)\n",
    "print(TN, FP, FN, TP)"
   ]
  },
  {
   "cell_type": "code",
   "execution_count": 39,
   "metadata": {},
   "outputs": [
    {
     "name": "stdout",
     "output_type": "stream",
     "text": [
      "正规化后的混淆矩阵：\n",
      "[[0.71 0.29]\n",
      " [0.19 0.81]]\n",
      "没有进行正规化的混淆矩阵：\n",
      "[[17  7]\n",
      " [ 5 21]]\n"
     ]
    },
    {
     "data": {
      "image/png": "[encoded data removed]",
      "text/plain": [
       "<Figure size 432x288 with 1 Axes>"
      ]
     },
     "metadata": {},
     "output_type": "display_data"
    },
    {
     "data": {
      "image/png": "[encoded data removed]",
      "text/plain": [
       "<Figure size 432x288 with 1 Axes>"
      ]
     },
     "metadata": {},
     "output_type": "display_data"
    }
   ],
   "source": [
    "# print and plot confusion matrix\n",
    "def plot_confusion_matrix(cm, classes, normalize = False, title = \"Confusion Matrix\", cmap = plt.cm.Blues):\n",
    "    \"\"\"\n",
    "    # print and plot the confusion matrix\n",
    "    \"\"\"\n",
    "    if normalize:\n",
    "        cm = cm.astype('float') / cm.sum(axis = 1)[:, np.newaxis]\n",
    "        print('正规化后的混淆矩阵：')\n",
    "    else:\n",
    "        print('没有进行正规化的混淆矩阵：')\n",
    "    print(cm)\n",
    "    \n",
    "    plt.imshow(cm, interpolation = 'nearest', cmap = cmap)\n",
    "    plt.title(title)\n",
    "    tick_marks = np.arange(len(classes))\n",
    "    plt.xticks(tick_marks, classes, rotation = 45)\n",
    "    plt.yticks(tick_marks, classes)\n",
    "    \n",
    "    fmt = '0.2f' if normalize else 'd'\n",
    "    thresh = cm.max() / 2.0\n",
    "    for i, j in itertools.product(range(cm.shape[0]), range(cm.shape[1])):\n",
    "        plt.text(j, \n",
    "                 i,\n",
    "                 format(cm[i, j], fmt),\n",
    "                 horizontalalignment = 'center',\n",
    "                 color = 'white' if cm[i, j] > thresh else 'black')\n",
    "    plt.xlabel('Predicted label')\n",
    "    plt.ylabel('True label')\n",
    "    plt.tight_layout()\n",
    "\n",
    "plt.figure()\n",
    "plot_confusion_matrix(cm, classes = class_names, normalize = True, title = \"Normalized Confusion Matrix\")\n",
    "plt.figure()\n",
    "plot_confusion_matrix(cm, classes = class_names, normalize = False, title = \"non Normalized Confusion Matrix\")\n",
    "plt.show()"
   ]
  },
  {
   "cell_type": "markdown",
   "metadata": {},
   "source": [
    "#### Precision, Recall, Average_precision_score"
   ]
  },
  {
   "cell_type": "code",
   "execution_count": 48,
   "metadata": {},
   "outputs": [
    {
     "name": "stdout",
     "output_type": "stream",
     "text": [
      "0.8783170534965226\n",
      "[0.62 0.61 0.62 0.64 0.63 0.65 0.67 0.69 0.68 0.67 0.69 0.71 0.73 0.76\n",
      " 0.75 0.78 0.77 0.76 0.75 0.78 0.77 0.81 0.8  0.84 0.89 0.88 0.88 0.93\n",
      " 0.93 0.92 0.92 1.   1.   1.   1.   1.   1.   1.   1.   1.   1.   1.\n",
      " 1.  ]\n",
      "[1.   0.96 0.96 0.96 0.92 0.92 0.92 0.92 0.88 0.85 0.85 0.85 0.85 0.85\n",
      " 0.81 0.81 0.77 0.73 0.69 0.69 0.65 0.65 0.62 0.62 0.62 0.58 0.54 0.54\n",
      " 0.5  0.46 0.42 0.42 0.38 0.35 0.31 0.27 0.23 0.19 0.15 0.12 0.08 0.04\n",
      " 0.  ]\n",
      "0.8076923076923077\n"
     ]
    }
   ],
   "source": [
    "average_precision = average_precision_score(y_test, y_score)\n",
    "precision, recall, _ = precision_recall_curve(y_test, y_score)\n",
    "recall_macro = recall_score(y_test, y_pred, average = 'macro')\n",
    "recall_micro = recall_score(y_test, y_pred, average = 'micro')\n",
    "recall_weighted = recall_score(y_test, y_pred, average = 'weighted')\n",
    "recall_binary = recall_score(y_test, y_pred, average = 'binary')\n",
    "# recall_samples = recall_score(y_test, y_pred, average = 'samples')\n",
    "print(average_precision)\n",
    "print(precision)\n",
    "print(recall)\n",
    "print(recall_binary)"
   ]
  },
  {
   "cell_type": "code",
   "execution_count": 41,
   "metadata": {},
   "outputs": [
    {
     "data": {
      "image/png": "[encoded data removed]",
      "text/plain": [
       "<Figure size 432x288 with 1 Axes>"
      ]
     },
     "metadata": {},
     "output_type": "display_data"
    }
   ],
   "source": [
    "def plot_precision_recall_curve(y_test, y_score):\n",
    "    precision, recall, _ = precision_recall_curve(y_test, y_score)\n",
    "    step_kwargs = {'step': 'post'}\n",
    "    plt.step(recall, precision, color = 'b', alpha = 0.2, where = 'post')\n",
    "    plt.fill_between(recall, precision, alpha = 0.2, color = 'b', **step_kwargs)\n",
    "    plt.xlabel('Recall')\n",
    "    plt.ylabel('Precision')\n",
    "    plt.xlim([0.0, 1.0])\n",
    "    plt.ylim([0.0, 1.05])\n",
    "    plt.title('Two-Class Precision-Call Curve: AP = {0:0.2f}'.format(average_precision))\n",
    "plot_precision_recall_curve(y_test, y_score)"
   ]
  },
  {
   "cell_type": "code",
   "execution_count": null,
   "metadata": {},
   "outputs": [],
   "source": []
  }
 ],
 "metadata": {
  "kernelspec": {
   "display_name": "Python 3",
   "language": "python",
   "name": "python3"
  },
  "language_info": {
   "codemirror_mode": {
    "name": "ipython",
    "version": 3
   },
   "file_extension": ".py",
   "mimetype": "text/x-python",
   "name": "python",
   "nbconvert_exporter": "python",
   "pygments_lexer": "ipython3",
   "version": "3.7.3"
  }
 },
 "nbformat": 4,
 "nbformat_minor": 4
}
